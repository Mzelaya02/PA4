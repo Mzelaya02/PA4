{
 "cells": [
  {
   "cell_type": "markdown",
   "id": "18b80e16",
   "metadata": {},
   "source": [
    "# Computer Programming For the Liberal Arts "
   ]
  },
  {
   "cell_type": "markdown",
   "id": "2b1e340c",
   "metadata": {},
   "source": [
    "## Michael Zelaya "
   ]
  },
  {
   "cell_type": "markdown",
   "id": "8726209a",
   "metadata": {},
   "source": [
    "## Programming Assignment 4 (Version 4)"
   ]
  },
  {
   "cell_type": "markdown",
   "id": "dce1ee78",
   "metadata": {},
   "source": [
    "## Spring 2023"
   ]
  },
  {
   "cell_type": "markdown",
   "id": "ba5f0d29",
   "metadata": {},
   "source": [
    "#### a)"
   ]
  },
  {
   "cell_type": "code",
   "execution_count": 25,
   "id": "de1bd6fe",
   "metadata": {},
   "outputs": [
    {
     "name": "stdout",
     "output_type": "stream",
     "text": [
      "0\n",
      "1\n",
      "2\n",
      "3\n",
      "4\n",
      "5\n",
      "6 *\n",
      "7\n",
      "8\n",
      "9 *\n",
      "10\n",
      "11\n",
      "12 *\n",
      "13\n",
      "14\n",
      "15 *\n",
      "16\n",
      "17\n",
      "18 *\n",
      "19\n",
      "20\n",
      "21 *\n",
      "22\n",
      "23\n",
      "24 *\n",
      "25\n",
      "26\n",
      "27 *\n",
      "28\n",
      "29\n",
      "30 *\n",
      "31\n",
      "32\n",
      "33 *\n",
      "34\n",
      "35\n",
      "36 *\n",
      "37\n",
      "38\n",
      "39 *\n",
      "40\n",
      "41\n",
      "42 *\n",
      "43\n",
      "44\n",
      "45 *\n",
      "46\n",
      "47\n",
      "48 *\n",
      "49\n",
      "50\n",
      "51 *\n",
      "52\n",
      "53\n",
      "54 *\n",
      "55\n",
      "56\n",
      "57 *\n",
      "58\n",
      "59\n",
      "60 *\n",
      "61\n",
      "62\n",
      "63 *\n",
      "64\n",
      "65\n",
      "66 *\n",
      "67\n",
      "68\n",
      "69 *\n",
      "70\n",
      "71\n",
      "72 *\n",
      "73\n",
      "74\n",
      "75 *\n",
      "76\n",
      "77\n",
      "78 *\n",
      "79\n",
      "80\n",
      "81 *\n",
      "82\n",
      "83\n",
      "84 *\n",
      "85\n",
      "86\n",
      "87 *\n",
      "88\n",
      "89\n",
      "90 *\n",
      "91\n",
      "92\n",
      "93 *\n",
      "94\n",
      "95\n",
      "96 *\n",
      "97\n",
      "98\n",
      "99 *\n"
     ]
    }
   ],
   "source": [
    "for value in range(0,100):\n",
    "    if value%3 == 0 and value!= 0 and value!= 3: \n",
    "        print(value,\"*\")\n",
    "    else:\n",
    "        print(value)"
   ]
  },
  {
   "cell_type": "markdown",
   "id": "9bb9cdb6",
   "metadata": {},
   "source": [
    "#### b)"
   ]
  },
  {
   "cell_type": "code",
   "execution_count": 14,
   "id": "2ad4c4da",
   "metadata": {},
   "outputs": [
    {
     "name": "stdout",
     "output_type": "stream",
     "text": [
      "Enter a month by number: 5\n",
      "May has 31 days\n"
     ]
    }
   ],
   "source": [
    "month=int(input(\"Enter a month by number: \"))\n",
    "if (month==1):\n",
    "    print(\"January has 31 days\")\n",
    "elif (month==2):\n",
    "    print(\"February has 28 days\")\n",
    "elif (month==3):\n",
    "    print(\"March has 31 days\")\n",
    "elif (month==4):\n",
    "    print(\"April has 30 days\")\n",
    "elif (month==5):\n",
    "    print(\"May has 31 days\")\n",
    "elif (month==6):\n",
    "    print(\"June has 30 days\")\n",
    "elif (month==7):\n",
    "    print(\"July has 31 days\")\n",
    "elif (month==8):\n",
    "    print(\"August has 31 days\")\n",
    "elif (month==9):\n",
    "    print(\"September has 30 days\")\n",
    "elif (month==10):\n",
    "    print(\"October has 31 days\")\n",
    "elif(month==11):\n",
    "    print(\"November has 30 days\")\n",
    "elif(month==12):\n",
    "    print(\"December has 31 days\")"
   ]
  },
  {
   "cell_type": "markdown",
   "id": "50f74c76",
   "metadata": {},
   "source": [
    "#### C)"
   ]
  },
  {
   "cell_type": "code",
   "execution_count": 22,
   "id": "fc8f695f",
   "metadata": {},
   "outputs": [
    {
     "name": "stdout",
     "output_type": "stream",
     "text": [
      "Enter a number: 8\n",
      "The number is not a prime number\n"
     ]
    }
   ],
   "source": [
    "prime = int(input(\"Enter a number: \"))\n",
    "if prime == 1:\n",
    "    print(\"The number is not prime\")\n",
    "elif prime > 1:\n",
    "    if (prime%2 ==0 or prime%3 ==0 ):\n",
    "        print(\"The number is not a prime number\")\n",
    "    else:\n",
    "        print(\"The number is a prime number!\")"
   ]
  },
  {
   "cell_type": "markdown",
   "id": "c3e8e0d7",
   "metadata": {},
   "source": [
    "#### d)"
   ]
  },
  {
   "cell_type": "code",
   "execution_count": 8,
   "id": "19d6e77b",
   "metadata": {},
   "outputs": [
    {
     "name": "stdout",
     "output_type": "stream",
     "text": [
      "Enter first side: 7\n",
      "Enter second side: 7\n",
      "Enter third side: 7\n",
      "Equilateral Triangle\n"
     ]
    }
   ],
   "source": [
    "a = int(input(\"Enter first side: \"))\n",
    "b = int(input(\"Enter second side: \"))\n",
    "c = int(input(\"Enter third side: \"))\n",
    "\n",
    "if (a == b and b == c and a==c):\n",
    "    print(\"Equilateral Triangle\")\n",
    "elif a==b or b == c or c == a:\n",
    "    print(\"Isosceles Triangle\")\n",
    "else:\n",
    "    print(\"Scalene Triangle\")\n",
    "    "
   ]
  },
  {
   "cell_type": "markdown",
   "id": "e3e22806",
   "metadata": {},
   "source": [
    "#### e)"
   ]
  },
  {
   "cell_type": "code",
   "execution_count": 31,
   "id": "a48f0c74",
   "metadata": {},
   "outputs": [
    {
     "name": "stdout",
     "output_type": "stream",
     "text": [
      "Enter age: 65\n",
      "Is a Senior Citizen\n"
     ]
    }
   ],
   "source": [
    "age=int(input(\"Enter age: \"))\n",
    "if (age<18):\n",
    "    print(\"Is a Minor\")\n",
    "elif(age <= 64):\n",
    "    print(\"Is an Adult\")\n",
    "else:\n",
    "    print(\"Is a Senior Citizen\")"
   ]
  }
 ],
 "metadata": {
  "kernelspec": {
   "display_name": "Python 3 (ipykernel)",
   "language": "python",
   "name": "python3"
  },
  "language_info": {
   "codemirror_mode": {
    "name": "ipython",
    "version": 3
   },
   "file_extension": ".py",
   "mimetype": "text/x-python",
   "name": "python",
   "nbconvert_exporter": "python",
   "pygments_lexer": "ipython3",
   "version": "3.9.13"
  }
 },
 "nbformat": 4,
 "nbformat_minor": 5
}
